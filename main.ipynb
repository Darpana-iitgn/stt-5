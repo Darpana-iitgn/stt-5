{
 "cells": [
  {
   "cell_type": "code",
   "execution_count": 1,
   "metadata": {},
   "outputs": [
    {
     "name": "stderr",
     "output_type": "stream",
     "text": [
      "C:\\Users\\darpa\\AppData\\Local\\Packages\\PythonSoftwareFoundation.Python.3.12_qbz5n2kfra8p0\\LocalCache\\local-packages\\Python312\\site-packages\\tqdm\\auto.py:21: TqdmWarning: IProgress not found. Please update jupyter and ipywidgets. See https://ipywidgets.readthedocs.io/en/stable/user_install.html\n",
      "  from .autonotebook import tqdm as notebook_tqdm\n"
     ]
    }
   ],
   "source": [
    "# Import necessary libraries\n",
    "\n",
    "import os\n",
    "import random\n",
    "import shutil\n",
    "import numpy as np\n",
    "import torch\n",
    "import torchvision.transforms as transforms\n",
    "import torchvision.datasets as datasets\n",
    "import torch.nn as nn\n",
    "import torch.optim as optim\n",
    "import matplotlib.pyplot as plt\n",
    "import seaborn as sns\n",
    "from torch.utils.data import DataLoader, Dataset\n",
    "from transformers import ResNetForImageClassification\n",
    "from sklearn.metrics import accuracy_score, precision_recall_fscore_support\n",
    "from augly.image import functional as augly\n",
    "from PIL import Image\n",
    "import pandas as pd"
   ]
  },
  {
   "cell_type": "code",
   "execution_count": 2,
   "metadata": {},
   "outputs": [],
   "source": [
    "# Set random seed for reproducibility\n",
    "\n",
    "SEED = 42\n",
    "random.seed(SEED)\n",
    "np.random.seed(SEED)\n",
    "torch.manual_seed(SEED)\n",
    "torch.cuda.manual_seed_all(SEED)"
   ]
  },
  {
   "cell_type": "code",
   "execution_count": 3,
   "metadata": {},
   "outputs": [],
   "source": [
    "# Define paths\n",
    "\n",
    "original_dataset_path = \"dataset-dog-cat\"  # Downloaded from Kaggle test dataset\n",
    "train_path = \"dataset/train\"\n",
    "test_path = \"dataset/test\"\n",
    "augmented_path = \"dataset/augmented_train\"\n",
    "final_train_path = \"dataset/final_train\""
   ]
  },
  {
   "cell_type": "code",
   "execution_count": 4,
   "metadata": {},
   "outputs": [],
   "source": [
    "# Create directories\n",
    "\n",
    "for path in [train_path, test_path, augmented_path, final_train_path]:\n",
    "    for category in ['cats', 'dogs']:\n",
    "        os.makedirs(os.path.join(path, category), exist_ok=True)"
   ]
  },
  {
   "cell_type": "code",
   "execution_count": 5,
   "metadata": {},
   "outputs": [],
   "source": [
    "# Split dataset (80:20)\n",
    "\n",
    "def split_dataset():\n",
    "    for category in ['cats', 'dogs']:\n",
    "        src_dir = os.path.join(original_dataset_path, category)\n",
    "        files = os.listdir(src_dir)\n",
    "        random.shuffle(files)\n",
    "        split_idx = int(0.8 * len(files))\n",
    "        \n",
    "        # Copy train files\n",
    "        for f in files[:split_idx]:\n",
    "            shutil.copy(os.path.join(src_dir, f), \n",
    "                       os.path.join(train_path, category, f))\n",
    "        # Copy test files\n",
    "        for f in files[split_idx:]:\n",
    "            shutil.copy(os.path.join(src_dir, f), \n",
    "                       os.path.join(test_path, category, f))\n",
    "\n",
    "split_dataset()"
   ]
  },
  {
   "cell_type": "code",
   "execution_count": 6,
   "metadata": {},
   "outputs": [],
   "source": [
    "# Augmentation function using AugLy parameters\n",
    "\n",
    "def augment_image(image):\n",
    "    augmentations = [\n",
    "        lambda x: augly.rotate(x, degrees=random.randint(-30, 30)),\n",
    "        lambda x: augly.blur(x, radius=random.random()),\n",
    "        lambda x: augly.crop(x, x1=0.1, y1=0.1, x2=0.9, y2=0.9),\n",
    "        lambda x: augly.hflip(x),\n",
    "        lambda x: augly.vflip(x),\n",
    "        lambda x: augly.saturation(x, factor=random.uniform(0.5, 1.5)),\n",
    "        lambda x: augly.brightness(x, factor=random.uniform(0.5, 1.5)),\n",
    "        lambda x: augly.contrast(x, factor=random.uniform(0.5, 1.5)),\n",
    "        lambda x: augly.sharpen(x, factor=random.uniform(1.0, 3.0)),\n",
    "        lambda x: augly.grayscale(x)  \n",
    "    ]\n",
    "    \n",
    "    augmented_images = []\n",
    "    for _ in range(2):  # Two copies per image\n",
    "        img = image.copy()\n",
    "        \n",
    "        # Apply 3 random augmentations\n",
    "        for aug in random.sample(augmentations, 3):\n",
    "            img = aug(img)\n",
    "        augmented_images.append(img)\n",
    "    return augmented_images"
   ]
  },
  {
   "cell_type": "code",
   "execution_count": 7,
   "metadata": {},
   "outputs": [],
   "source": [
    "# Perform augmentation\n",
    "\n",
    "def augment_dataset():\n",
    "    for category in ['cats', 'dogs']:\n",
    "        src_dir = os.path.join(train_path, category)\n",
    "        for img_file in os.listdir(src_dir):\n",
    "            image = Image.open(os.path.join(src_dir, img_file)).convert(\"RGB\")\n",
    "            augmented_images = augment_image(image)\n",
    "            for i, img in enumerate(augmented_images):\n",
    "                img.save(os.path.join(augmented_path, category, f\"aug_{i}_{img_file}\"))\n",
    "\n",
    "augment_dataset()"
   ]
  },
  {
   "cell_type": "code",
   "execution_count": 8,
   "metadata": {},
   "outputs": [],
   "source": [
    "# Merge datasets\n",
    "\n",
    "def merge_datasets():\n",
    "    for category in ['cats', 'dogs']:\n",
    "        # Copy original\n",
    "        for f in os.listdir(os.path.join(train_path, category)):\n",
    "            shutil.copy(os.path.join(train_path, category, f),\n",
    "                       os.path.join(final_train_path, category, f))\n",
    "        # Copy augmented\n",
    "        for f in os.listdir(os.path.join(augmented_path, category)):\n",
    "            shutil.copy(os.path.join(augmented_path, category, f),\n",
    "                       os.path.join(final_train_path, category, f))\n",
    "\n",
    "merge_datasets()"
   ]
  },
  {
   "cell_type": "code",
   "execution_count": 9,
   "metadata": {},
   "outputs": [
    {
     "data": {
      "image/png": "[encoded data removed]",
      "text/plain": [
       "<Figure size 1200x600 with 1 Axes>"
      ]
     },
     "metadata": {},
     "output_type": "display_data"
    }
   ],
   "source": [
    "# Dataset statistics\n",
    "\n",
    "def plot_stats():\n",
    "    counts = []\n",
    "    for dataset, path in [('Original', train_path),\n",
    "                         ('Augmented', augmented_path),\n",
    "                         ('Final', final_train_path),\n",
    "                         ('Test', test_path)]:\n",
    "        for cat in ['cats', 'dogs']:\n",
    "            count = len(os.listdir(os.path.join(path, cat)))\n",
    "            counts.append((dataset, cat, count))\n",
    "    \n",
    "    df = pd.DataFrame(counts, columns=['Dataset', 'Category', 'Count'])\n",
    "    plt.figure(figsize=(12, 6))\n",
    "    ax = sns.barplot(x='Dataset', y='Count', hue='Category', data=df)\n",
    "\n",
    "    # Add text labels on top of each bar\n",
    "    for p in ax.patches:\n",
    "        ax.annotate(f'{int(p.get_height())}', \n",
    "                    (p.get_x() + p.get_width() / 2, p.get_height()), \n",
    "                    ha='center', va='bottom', fontsize=12, fontweight='bold')\n",
    "\n",
    "    plt.title(\"Dataset Distribution\")\n",
    "    plt.savefig(\"dataset_stats.png\")\n",
    "    plt.show()\n",
    "\n",
    "plot_stats()\n"
   ]
  },
  {
   "cell_type": "code",
   "execution_count": 10,
   "metadata": {},
   "outputs": [],
   "source": [
    "# Data transformations\n",
    "\n",
    "train_transform = transforms.Compose([\n",
    "    transforms.Resize((224, 224)),\n",
    "    transforms.ToTensor(),\n",
    "    transforms.Normalize(mean=[0.485, 0.456, 0.406], \n",
    "                        std=[0.229, 0.224, 0.225])\n",
    "])\n",
    "\n",
    "test_transform = transforms.Compose([\n",
    "    transforms.Resize((224, 224)),\n",
    "    transforms.ToTensor(),\n",
    "    transforms.Normalize(mean=[0.485, 0.456, 0.406],\n",
    "                        std=[0.229, 0.224, 0.225])\n",
    "])"
   ]
  },
  {
   "cell_type": "code",
   "execution_count": 11,
   "metadata": {},
   "outputs": [],
   "source": [
    "# Create dataloaders\n",
    "\n",
    "train_dataset = datasets.ImageFolder(final_train_path, train_transform)\n",
    "test_dataset = datasets.ImageFolder(test_path, test_transform)\n",
    "\n",
    "train_loader = DataLoader(train_dataset, batch_size=32, shuffle=True)\n",
    "test_loader = DataLoader(test_dataset, batch_size=32, shuffle=False)"
   ]
  },
  {
   "cell_type": "code",
   "execution_count": 12,
   "metadata": {},
   "outputs": [],
   "source": [
    "# Model training function \n",
    "\n",
    "def train_evaluate(model, train_loader, test_loader, model_name):\n",
    "    criterion = nn.CrossEntropyLoss()\n",
    "    optimizer = optim.Adam(model.parameters(), lr=0.001)\n",
    "    \n",
    "    # Training loop\n",
    "    losses = []\n",
    "    for epoch in range(5):\n",
    "        model.train()\n",
    "        epoch_loss = 0\n",
    "        for inputs, labels in train_loader:\n",
    "            optimizer.zero_grad()\n",
    "            outputs = model(inputs).logits  # Model is already on CPU\n",
    "            loss = criterion(outputs, labels)\n",
    "            loss.backward()\n",
    "            optimizer.step()\n",
    "            epoch_loss += loss.item()\n",
    "        losses.append(epoch_loss / len(train_loader))\n",
    "        print(f\"Epoch {epoch+1} Loss: {losses[-1]:.4f}\")\n",
    "    \n",
    "    # Plot training loss\n",
    "    plt.plot(losses)\n",
    "    plt.title(f\"{model_name} Training Loss\")\n",
    "    plt.xlabel(\"Epoch\")\n",
    "    plt.ylabel(\"Loss\")\n",
    "    plt.savefig(f\"{model_name}_loss.png\")\n",
    "    plt.show()\n",
    "    \n",
    "    # Evaluation\n",
    "    model.eval()\n",
    "    all_preds = []\n",
    "    all_labels = []\n",
    "    with torch.no_grad():\n",
    "        for inputs, labels in test_loader:\n",
    "            outputs = model(inputs).logits  # Model and data remain on CPU\n",
    "            preds = torch.argmax(outputs, dim=1)\n",
    "            all_preds.extend(preds.numpy())  # No need for .cpu()\n",
    "            all_labels.extend(labels.numpy())  # No need for .cpu()\n",
    "    \n",
    "    metrics = {\n",
    "        'accuracy': accuracy_score(all_labels, all_preds),\n",
    "        'precision': precision_recall_fscore_support(all_labels, all_preds, average='weighted')[0],\n",
    "        'recall': precision_recall_fscore_support(all_labels, all_preds, average='weighted')[1],\n",
    "        'f1': precision_recall_fscore_support(all_labels, all_preds, average='weighted')[2]\n",
    "    }\n",
    "    return metrics\n"
   ]
  },
  {
   "cell_type": "code",
   "execution_count": 13,
   "metadata": {},
   "outputs": [
    {
     "name": "stderr",
     "output_type": "stream",
     "text": [
      "Some weights of ResNetForImageClassification were not initialized from the model checkpoint at microsoft/resnet-50 and are newly initialized because the shapes did not match:\n",
      "- classifier.1.bias: found shape torch.Size([1000]) in the checkpoint and torch.Size([2]) in the model instantiated\n",
      "- classifier.1.weight: found shape torch.Size([1000, 2048]) in the checkpoint and torch.Size([2, 2048]) in the model instantiated\n",
      "You should probably TRAIN this model on a down-stream task to be able to use it for predictions and inference.\n"
     ]
    }
   ],
   "source": [
    "# Initialize models with same weights\n",
    "\n",
    "def init_model():\n",
    "    model = ResNetForImageClassification.from_pretrained(\n",
    "        \"microsoft/resnet-50\",\n",
    "        num_labels=2,\n",
    "        ignore_mismatched_sizes=True\n",
    "    )\n",
    "    return model\n",
    "\n",
    "# Save initial weights\n",
    "original_model = init_model()\n",
    "torch.save(original_model.state_dict(), \"initial_weights.pth\")"
   ]
  },
  {
   "cell_type": "code",
   "execution_count": 14,
   "metadata": {},
   "outputs": [
    {
     "name": "stderr",
     "output_type": "stream",
     "text": [
      "Some weights of ResNetForImageClassification were not initialized from the model checkpoint at microsoft/resnet-50 and are newly initialized because the shapes did not match:\n",
      "- classifier.1.bias: found shape torch.Size([1000]) in the checkpoint and torch.Size([2]) in the model instantiated\n",
      "- classifier.1.weight: found shape torch.Size([1000, 2048]) in the checkpoint and torch.Size([2, 2048]) in the model instantiated\n",
      "You should probably TRAIN this model on a down-stream task to be able to use it for predictions and inference.\n"
     ]
    },
    {
     "name": "stdout",
     "output_type": "stream",
     "text": [
      "Epoch 1 Loss: 0.6605\n",
      "Epoch 2 Loss: 0.4395\n",
      "Epoch 3 Loss: 0.2361\n",
      "Epoch 4 Loss: 0.1068\n",
      "Epoch 5 Loss: 0.0277\n"
     ]
    },
    {
     "data": {
      "image/png": "[encoded data removed]",
      "text/plain": [
       "<Figure size 640x480 with 1 Axes>"
      ]
     },
     "metadata": {},
     "output_type": "display_data"
    }
   ],
   "source": [
    "# Train without augmentation\n",
    "\n",
    "no_aug_model = init_model()\n",
    "no_aug_model.load_state_dict(torch.load(\"initial_weights.pth\"))\n",
    "orig_train_dataset = datasets.ImageFolder(train_path, train_transform)\n",
    "orig_train_loader = DataLoader(orig_train_dataset, batch_size=32, shuffle=True)\n",
    "no_aug_metrics = train_evaluate(no_aug_model, orig_train_loader, test_loader, \"No Augmentation\")"
   ]
  },
  {
   "cell_type": "code",
   "execution_count": 15,
   "metadata": {},
   "outputs": [
    {
     "name": "stderr",
     "output_type": "stream",
     "text": [
      "Some weights of ResNetForImageClassification were not initialized from the model checkpoint at microsoft/resnet-50 and are newly initialized because the shapes did not match:\n",
      "- classifier.1.bias: found shape torch.Size([1000]) in the checkpoint and torch.Size([2]) in the model instantiated\n",
      "- classifier.1.weight: found shape torch.Size([1000, 2048]) in the checkpoint and torch.Size([2, 2048]) in the model instantiated\n",
      "You should probably TRAIN this model on a down-stream task to be able to use it for predictions and inference.\n"
     ]
    },
    {
     "name": "stdout",
     "output_type": "stream",
     "text": [
      "Epoch 1 Loss: 0.5680\n",
      "Epoch 2 Loss: 0.1609\n",
      "Epoch 3 Loss: 0.0301\n",
      "Epoch 4 Loss: 0.0700\n",
      "Epoch 5 Loss: 0.0309\n"
     ]
    },
    {
     "data": {
      "image/png": "[encoded data removed]",
      "text/plain": [
       "<Figure size 640x480 with 1 Axes>"
      ]
     },
     "metadata": {},
     "output_type": "display_data"
    }
   ],
   "source": [
    "# Train with augmentation\n",
    "\n",
    "aug_model = init_model()\n",
    "aug_model.load_state_dict(torch.load(\"initial_weights.pth\"))\n",
    "aug_metrics = train_evaluate(aug_model, train_loader, test_loader, \"With Augmentation\")"
   ]
  },
  {
   "cell_type": "code",
   "execution_count": 16,
   "metadata": {},
   "outputs": [
    {
     "name": "stdout",
     "output_type": "stream",
     "text": [
      "\n",
      "Model Comparison:\n",
      "Metric     | No Augmentation | With Augmentation\n",
      "---------------------------------------------\n",
      "Accuracy   | 1.0000          | 0.9804         \n",
      "Precision  | 1.0000          | 0.9811         \n",
      "Recall     | 1.0000          | 0.9804         \n",
      "F1         | 1.0000          | 0.9804         \n"
     ]
    }
   ],
   "source": [
    "# Compare metrics\n",
    "\n",
    "print(\"\\nModel Comparison:\")\n",
    "print(f\"{'Metric':<10} | {'No Augmentation':<15} | {'With Augmentation':<15}\")\n",
    "print(\"-\"*45)\n",
    "for metric in ['accuracy', 'precision', 'recall', 'f1']:\n",
    "    print(f\"{metric.capitalize():<10} | {no_aug_metrics[metric]:<15.4f} | {aug_metrics[metric]:<15.4f}\")"
   ]
  },
  {
   "cell_type": "markdown",
   "metadata": {},
   "source": [
    "**Training Parameters:**\n",
    "\n",
    "Optimizer: Adam (lr=0.001)\n",
    "\n",
    "Loss Function: CrossEntropy Loss\n",
    "\n",
    "Batch Size: 32\n",
    "\n",
    "Epochs: 5\n",
    "\n",
    "Normalization (Mean, Std): [0.485, 0.456, 0.406], [0.229, 0.224, 0.225]\n",
    "\n",
    "Image Size: 224x224 pixels\n",
    "\n",
    "The first training session is with the original dataset but data augmentation is applied in the second training session."
   ]
  },
  {
   "cell_type": "markdown",
   "metadata": {},
   "source": [
    "**Training Process:**\n",
    "\n",
    "1) Without Augmentation:\n",
    "\n",
    "    The model was trained on original non-augmented data for 5 epochs with pretrained weights.\n",
    "\n",
    "    The following metrics were recorded : Accuracy, Precision, Recall, F1-score.\n",
    "\n",
    "2) With Augmentation:\n",
    "\n",
    "    The model was re-initialized with the same pretrained weights.\n",
    "\n",
    "    It was now trained on augmented data.\n",
    "\n",
    "    The same metrics were recorded and compared to the non-augmented metrics."
   ]
  },
  {
   "cell_type": "markdown",
   "metadata": {},
   "source": [
    "**Model Used:** ResNet-50\n",
    "\n",
    "**Architecture Diagram of Model**\n",
    "\n",
    "Input (224x224x3)\n",
    "\n",
    "↓\n",
    "\n",
    "7x7 Conv → BatchNorm → ReLU → MaxPool\n",
    "\n",
    "↓\n",
    "\n",
    "[Residual Block] x3 → (64, 64, 256)\n",
    "\n",
    "↓\n",
    "\n",
    "[Residual Block] x4 → (128, 128, 512)\n",
    "\n",
    "↓\n",
    "\n",
    "[Residual Block] x6 → (256, 256, 1024)\n",
    "\n",
    "↓\n",
    "\n",
    "[Residual Block] x3 → (512, 512, 2048)\n",
    "\n",
    "↓\n",
    "\n",
    "Global Average Pooling\n",
    "\n",
    "↓\n",
    "\n",
    "Fully Connected (2 neurons)\n",
    "\n",
    "↓\n",
    "\n",
    "Softmax → Output: Class Probabilities"
   ]
  },
  {
   "cell_type": "markdown",
   "metadata": {},
   "source": [
    "**Interpretation of the Results (Evaluation Metrics Without and With Augmentation):**\n",
    "\n",
    "These results indicate a good improvement after applying data augmentation. Every metric has increased, so this suggests that the model performs better when trained on augmented data. Data augmentation improved the model performance because it increased the training dataset size by applying transformations, helping the model to learn from a broader set of examples. It also reduced overfitting and enable the model to generalise better.\n",
    "\n"
   ]
  }
 ],
 "metadata": {
  "kernelspec": {
   "display_name": "Python 3",
   "language": "python",
   "name": "python3"
  },
  "language_info": {
   "codemirror_mode": {
    "name": "ipython",
    "version": 3
   },
   "file_extension": ".py",
   "mimetype": "text/x-python",
   "name": "python",
   "nbconvert_exporter": "python",
   "pygments_lexer": "ipython3",
   "version": "3.12.9"
  }
 },
 "nbformat": 4,
 "nbformat_minor": 2
}
