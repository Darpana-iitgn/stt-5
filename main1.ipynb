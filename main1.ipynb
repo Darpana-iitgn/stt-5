{
  "cells": [
    {
      "cell_type": "code",
      "source": [
        "!pip install --upgrade augly -q"
      ],
      "metadata": {
        "colab": {
          "base_uri": "https://localhost:8080/"
        },
        "id": "SUqCwofk9_xA",
        "outputId": "45a72f5a-1b54-47b6-cb32-4802615c0e24"
      },
      "execution_count": null,
      "outputs": [
        {
          "output_type": "stream",
          "name": "stdout",
          "text": [
            "\u001b[?25l     \u001b[90m━━━━━━━━━━━━━━━━━━━━━━━━━━━━━━━━━━━━━━━━\u001b[0m \u001b[32m0.0/42.2 kB\u001b[0m \u001b[31m?\u001b[0m eta \u001b[36m-:--:--\u001b[0m\r\u001b[2K     \u001b[90m━━━━━━━━━━━━━━━━━━━━━━━━━━━━━━━━━━━━━━━━\u001b[0m \u001b[32m42.2/42.2 kB\u001b[0m \u001b[31m2.7 MB/s\u001b[0m eta \u001b[36m0:00:00\u001b[0m\n",
            "\u001b[?25h  Preparing metadata (setup.py) ... \u001b[?25l\u001b[?25hdone\n",
            "\u001b[2K   \u001b[90m━━━━━━━━━━━━━━━━━━━━━━━━━━━━━━━━━━━━━━━━\u001b[0m \u001b[32m24.3/24.3 MB\u001b[0m \u001b[31m68.5 MB/s\u001b[0m eta \u001b[36m0:00:00\u001b[0m\n",
            "\u001b[?25h  Building wheel for iopath (setup.py) ... \u001b[?25l\u001b[?25hdone\n"
          ]
        }
      ]
    },
    {
      "cell_type": "code",
      "execution_count": null,
      "metadata": {
        "id": "fut9Mggj9pxp"
      },
      "outputs": [],
      "source": [
        "# Import necessary libraries\n",
        "\n",
        "import os\n",
        "import random\n",
        "import shutil\n",
        "import numpy as np\n",
        "import torch\n",
        "import torchvision.transforms as transforms\n",
        "import torchvision.datasets as datasets\n",
        "import torch.nn as nn\n",
        "import torch.optim as optim\n",
        "import matplotlib.pyplot as plt\n",
        "import seaborn as sns\n",
        "from torch.utils.data import DataLoader, Dataset\n",
        "from transformers import ResNetForImageClassification\n",
        "from sklearn.metrics import accuracy_score, precision_recall_fscore_support\n",
        "from augly.image import functional as augly\n",
        "from PIL import Image\n",
        "import pandas as pd"
      ]
    },
    {
      "cell_type": "code",
      "execution_count": null,
      "metadata": {
        "id": "YgNwlgcl9pxq"
      },
      "outputs": [],
      "source": [
        "# Set random seed for reproducibility\n",
        "\n",
        "SEED = 42\n",
        "random.seed(SEED)\n",
        "np.random.seed(SEED)\n",
        "torch.manual_seed(SEED)\n",
        "torch.cuda.manual_seed_all(SEED)"
      ]
    },
    {
      "cell_type": "code",
      "execution_count": null,
      "metadata": {
        "id": "v1tXOyQN9pxq"
      },
      "outputs": [],
      "source": [
        "# Define paths\n",
        "\n",
        "original_dataset_path = \"dataset-dog-cat\"  # Downloaded from Kaggle test dataset\n",
        "train_path = \"dataset/train\"\n",
        "test_path = \"dataset/test\"\n",
        "augmented_path = \"dataset/augmented_train\"\n",
        "final_train_path = \"dataset/final_train\""
      ]
    },
    {
      "cell_type": "code",
      "execution_count": null,
      "metadata": {
        "id": "HRcg7OCi9pxr"
      },
      "outputs": [],
      "source": [
        "# Create directories\n",
        "\n",
        "for path in [train_path, test_path, augmented_path, final_train_path]:\n",
        "    for category in ['cats', 'dogs']:\n",
        "        os.makedirs(os.path.join(path, category), exist_ok=True)"
      ]
    },
    {
      "cell_type": "code",
      "execution_count": null,
      "metadata": {
        "id": "Hfyi-IfD9pxr"
      },
      "outputs": [],
      "source": [
        "# Split dataset (80:20)\n",
        "\n",
        "def split_dataset():\n",
        "    for category in ['cats', 'dogs']:\n",
        "        src_dir = os.path.join(original_dataset_path, category)\n",
        "        files = os.listdir(src_dir)\n",
        "        random.shuffle(files)\n",
        "        split_idx = int(0.8 * len(files))\n",
        "\n",
        "        # Copy train files\n",
        "        for f in files[:split_idx]:\n",
        "            shutil.copy(os.path.join(src_dir, f),\n",
        "                       os.path.join(train_path, category, f))\n",
        "        # Copy test files\n",
        "        for f in files[split_idx:]:\n",
        "            shutil.copy(os.path.join(src_dir, f),\n",
        "                       os.path.join(test_path, category, f))\n",
        "\n",
        "split_dataset()"
      ]
    },
    {
      "cell_type": "code",
      "execution_count": null,
      "metadata": {
        "id": "ehuRLS5I9pxr"
      },
      "outputs": [],
      "source": [
        "# Augmentation function using AugLy parameters\n",
        "\n",
        "def augment_image(image):\n",
        "    augmentations = [\n",
        "        lambda x: augly.rotate(x, degrees=random.randint(-30, 30)),\n",
        "        lambda x: augly.blur(x, radius=random.random()),\n",
        "        lambda x: augly.crop(x, x1=0.1, y1=0.1, x2=0.9, y2=0.9),\n",
        "        lambda x: augly.hflip(x),\n",
        "        lambda x: augly.vflip(x),\n",
        "        lambda x: augly.saturation(x, factor=random.uniform(0.5, 1.5)),\n",
        "        lambda x: augly.brightness(x, factor=random.uniform(0.5, 1.5)),\n",
        "        lambda x: augly.contrast(x, factor=random.uniform(0.5, 1.5)),\n",
        "        lambda x: augly.sharpen(x, factor=random.uniform(1.0, 3.0)),\n",
        "        lambda x: augly.grayscale(x)\n",
        "    ]\n",
        "\n",
        "    augmented_images = []\n",
        "    for _ in range(2):  # Two copies per image\n",
        "        img = image.copy()\n",
        "\n",
        "        # Apply 3 random augmentations\n",
        "        for aug in random.sample(augmentations, 3):\n",
        "            img = aug(img)\n",
        "        augmented_images.append(img)\n",
        "    return augmented_images"
      ]
    },
    {
      "cell_type": "code",
      "execution_count": null,
      "metadata": {
        "id": "zGv0YG9C9pxr"
      },
      "outputs": [],
      "source": [
        "# Perform augmentation\n",
        "\n",
        "def augment_dataset():\n",
        "    for category in ['cats', 'dogs']:\n",
        "        src_dir = os.path.join(train_path, category)\n",
        "        for img_file in os.listdir(src_dir):\n",
        "            image = Image.open(os.path.join(src_dir, img_file)).convert(\"RGB\")\n",
        "            augmented_images = augment_image(image)\n",
        "            for i, img in enumerate(augmented_images):\n",
        "                img.save(os.path.join(augmented_path, category, f\"aug_{i}_{img_file}\"))\n",
        "\n",
        "augment_dataset()"
      ]
    },
    {
      "cell_type": "code",
      "execution_count": null,
      "metadata": {
        "id": "MkbRezyC9pxr"
      },
      "outputs": [],
      "source": [
        "# Merge datasets\n",
        "\n",
        "def merge_datasets():\n",
        "    for category in ['cats', 'dogs']:\n",
        "        # Copy original\n",
        "        for f in os.listdir(os.path.join(train_path, category)):\n",
        "            shutil.copy(os.path.join(train_path, category, f),\n",
        "                       os.path.join(final_train_path, category, f))\n",
        "        # Copy augmented\n",
        "        for f in os.listdir(os.path.join(augmented_path, category)):\n",
        "            shutil.copy(os.path.join(augmented_path, category, f),\n",
        "                       os.path.join(final_train_path, category, f))\n",
        "\n",
        "merge_datasets()"
      ]
    },
    {
      "cell_type": "code",
      "execution_count": null,
      "metadata": {
        "colab": {
          "base_uri": "https://localhost:8080/",
          "height": 564
        },
        "id": "34Ob1TSo9pxr",
        "outputId": "59de8588-d385-4d89-9c19-a271ccd195ad"
      },
      "outputs": [
        {
          "output_type": "display_data",
          "data": {
            "text/plain": [
              "<Figure size 1200x600 with 1 Axes>"
            ],
            "image/png": "[encoded data removed]"
          },
          "metadata": {}
        }
      ],
      "source": [
        "# Dataset statistics\n",
        "\n",
        "def plot_stats():\n",
        "    counts = []\n",
        "    for dataset, path in [('Original', train_path),\n",
        "                         ('Augmented', augmented_path),\n",
        "                         ('Final', final_train_path),\n",
        "                         ('Test', test_path)]:\n",
        "        for cat in ['cats', 'dogs']:\n",
        "            count = len(os.listdir(os.path.join(path, cat)))\n",
        "            counts.append((dataset, cat, count))\n",
        "\n",
        "    df = pd.DataFrame(counts, columns=['Dataset', 'Category', 'Count'])\n",
        "    plt.figure(figsize=(12, 6))\n",
        "    ax = sns.barplot(x='Dataset', y='Count', hue='Category', data=df)\n",
        "\n",
        "    # Add text labels on top of each bar\n",
        "    for p in ax.patches:\n",
        "        ax.annotate(f'{int(p.get_height())}',\n",
        "                    (p.get_x() + p.get_width() / 2, p.get_height()),\n",
        "                    ha='center', va='bottom', fontsize=12, fontweight='bold')\n",
        "\n",
        "    plt.title(\"Dataset Distribution\")\n",
        "    plt.savefig(\"dataset_stats.png\")\n",
        "    plt.show()\n",
        "\n",
        "plot_stats()\n"
      ]
    },
    {
      "cell_type": "markdown",
      "source": [
        "**Training Parameters:**\n",
        "\n",
        "Optimizer: Adam (lr=0.001)\n",
        "\n",
        "Loss Function: CrossEntropy Loss\n",
        "\n",
        "Batch Size: 32\n",
        "\n",
        "Epochs: 5\n",
        "\n",
        "Normalization (Mean, Std): [0.485, 0.456, 0.406], [0.229, 0.224, 0.225]\n",
        "\n",
        "Image Size: 224x224 pixels\n",
        "\n",
        "The first training session is with the original dataset but data augmentation is applied in the second training session."
      ],
      "metadata": {
        "id": "il6el0_K2WuV"
      }
    },
    {
      "cell_type": "code",
      "execution_count": null,
      "metadata": {
        "id": "u6efFs_N9pxr"
      },
      "outputs": [],
      "source": [
        "# Data transformations\n",
        "\n",
        "train_transform = transforms.Compose([\n",
        "    transforms.Resize((224, 224)),\n",
        "    transforms.ToTensor(),\n",
        "    transforms.Normalize(mean=[0.485, 0.456, 0.406],\n",
        "                        std=[0.229, 0.224, 0.225])\n",
        "])\n",
        "\n",
        "test_transform = transforms.Compose([\n",
        "    transforms.Resize((224, 224)),\n",
        "    transforms.ToTensor(),\n",
        "    transforms.Normalize(mean=[0.485, 0.456, 0.406],\n",
        "                        std=[0.229, 0.224, 0.225])\n",
        "])"
      ]
    },
    {
      "cell_type": "code",
      "execution_count": null,
      "metadata": {
        "id": "xXMyoBqV9pxs"
      },
      "outputs": [],
      "source": [
        "# Create dataloaders\n",
        "\n",
        "train_dataset = datasets.ImageFolder(final_train_path, train_transform)\n",
        "test_dataset = datasets.ImageFolder(test_path, test_transform)\n",
        "\n",
        "train_loader = DataLoader(train_dataset, batch_size=32, shuffle=True)\n",
        "test_loader = DataLoader(test_dataset, batch_size=32, shuffle=False)"
      ]
    },
    {
      "cell_type": "code",
      "execution_count": null,
      "metadata": {
        "id": "UfJfCiOC9pxs"
      },
      "outputs": [],
      "source": [
        "# Model training function\n",
        "\n",
        "def train_evaluate(model, train_loader, test_loader, model_name):\n",
        "    criterion = nn.CrossEntropyLoss()\n",
        "    optimizer = optim.Adam(model.parameters(), lr=0.001)\n",
        "\n",
        "    # Training loop\n",
        "    losses = []\n",
        "    for epoch in range(5):\n",
        "        model.train()\n",
        "        epoch_loss = 0\n",
        "        for inputs, labels in train_loader:\n",
        "            optimizer.zero_grad()\n",
        "            outputs = model(inputs).logits\n",
        "            loss = criterion(outputs, labels)\n",
        "            loss.backward()\n",
        "            optimizer.step()\n",
        "            epoch_loss += loss.item()\n",
        "        losses.append(epoch_loss / len(train_loader))\n",
        "        print(f\"Epoch {epoch+1} Loss: {losses[-1]:.4f}\")\n",
        "\n",
        "    # Plot training loss\n",
        "    plt.plot(losses)\n",
        "    plt.title(f\"{model_name} Training Loss\")\n",
        "    plt.xlabel(\"Epoch\")\n",
        "    plt.ylabel(\"Loss\")\n",
        "    plt.savefig(f\"{model_name}_loss.png\")\n",
        "    plt.show()\n",
        "\n",
        "    # Evaluation\n",
        "    model.eval()\n",
        "    all_preds = []\n",
        "    all_labels = []\n",
        "    with torch.no_grad():\n",
        "        for inputs, labels in test_loader:\n",
        "            outputs = model(inputs).logits\n",
        "            preds = torch.argmax(outputs, dim=1)\n",
        "            all_preds.extend(preds.numpy())\n",
        "            all_labels.extend(labels.numpy())\n",
        "\n",
        "    metrics = {\n",
        "        'accuracy': accuracy_score(all_labels, all_preds),\n",
        "        'precision': precision_recall_fscore_support(all_labels, all_preds, average='weighted')[0],\n",
        "        'recall': precision_recall_fscore_support(all_labels, all_preds, average='weighted')[1],\n",
        "        'f1': precision_recall_fscore_support(all_labels, all_preds, average='weighted')[2]\n",
        "    }\n",
        "    return metrics\n"
      ]
    },
    {
      "cell_type": "code",
      "execution_count": null,
      "metadata": {
        "colab": {
          "base_uri": "https://localhost:8080/",
          "height": 275,
          "referenced_widgets": [
            "b8df55c7ae8144069b890153f2a7da36",
            "a140ad8cbd4644b1b6443fae5102b2f6",
            "b70c5811efff4b979b486dd13a373b43",
            "6a6b2da2fb074ea4b276e87368aaf921",
            "9b28f590d0a5442195be933da6b212c5",
            "8f3b597e67c74d4cbe301f929e137fdd",
            "b96e96da1e954e9f955f04dcfbf13789",
            "d2d733c434a2402dbe8cb07cd5935d06",
            "12af9535e9be4a3c9de20a26df15acc9",
            "e6d489d42ff344af93d960bb89dfe34d",
            "1db18cf9202e4bffb751b7d2d6ab8c46",
            "d5a26846ef344696b01d82b914b77450",
            "a7fa275f46f44dec9d6f39bf83159575",
            "de62111fa6294a278406abfce82bb197",
            "e9ae3bff947b4384b283d88e775014a9",
            "d67dd9631a0e4ff4aaca9e142756fd1e",
            "e0316efe0cd7486eaacb19963268a66a",
            "bfd8f7926313402d926f4714e26bd7a8",
            "9fcb396b18834f5b8c65aaf38ed96eaf",
            "25fabdd66fd2412db1cfd646023f61f2",
            "67d7dcf96cfb4bcab94336cbd33b8733",
            "8b679faa040d4b29a9f3d8d7e50d6d58"
          ]
        },
        "id": "7NVM7xsp9pxs",
        "outputId": "b93d5bbf-85e2-43b7-8921-111bb7a58670"
      },
      "outputs": [
        {
          "output_type": "stream",
          "name": "stderr",
          "text": [
            "/usr/local/lib/python3.11/dist-packages/huggingface_hub/utils/_auth.py:94: UserWarning: \n",
            "The secret `HF_TOKEN` does not exist in your Colab secrets.\n",
            "To authenticate with the Hugging Face Hub, create a token in your settings tab (https://huggingface.co/settings/tokens), set it as secret in your Google Colab and restart your session.\n",
            "You will be able to reuse this secret in all of your notebooks.\n",
            "Please note that authentication is recommended but still optional to access public models or datasets.\n",
            "  warnings.warn(\n"
          ]
        },
        {
          "output_type": "display_data",
          "data": {
            "text/plain": [
              "config.json:   0%|          | 0.00/69.6k [00:00<?, ?B/s]"
            ],
            "application/vnd.jupyter.widget-view+json": {
              "version_major": 2,
              "version_minor": 0,
              "model_id": "b8df55c7ae8144069b890153f2a7da36"
            }
          },
          "metadata": {}
        },
        {
          "output_type": "display_data",
          "data": {
            "text/plain": [
              "model.safetensors:   0%|          | 0.00/102M [00:00<?, ?B/s]"
            ],
            "application/vnd.jupyter.widget-view+json": {
              "version_major": 2,
              "version_minor": 0,
              "model_id": "d5a26846ef344696b01d82b914b77450"
            }
          },
          "metadata": {}
        },
        {
          "output_type": "stream",
          "name": "stderr",
          "text": [
            "Some weights of ResNetForImageClassification were not initialized from the model checkpoint at microsoft/resnet-50 and are newly initialized because the shapes did not match:\n",
            "- classifier.1.bias: found shape torch.Size([1000]) in the checkpoint and torch.Size([2]) in the model instantiated\n",
            "- classifier.1.weight: found shape torch.Size([1000, 2048]) in the checkpoint and torch.Size([2, 2048]) in the model instantiated\n",
            "You should probably TRAIN this model on a down-stream task to be able to use it for predictions and inference.\n"
          ]
        }
      ],
      "source": [
        "# Initialize models with same weights\n",
        "\n",
        "def init_model():\n",
        "    model = ResNetForImageClassification.from_pretrained(\n",
        "        \"microsoft/resnet-50\",\n",
        "        num_labels=2,\n",
        "        ignore_mismatched_sizes=True\n",
        "    )\n",
        "    return model\n",
        "\n",
        "# Save initial weights\n",
        "original_model = init_model()\n",
        "torch.save(original_model.state_dict(), \"initial_weights.pth\")"
      ]
    },
    {
      "cell_type": "code",
      "execution_count": null,
      "metadata": {
        "colab": {
          "base_uri": "https://localhost:8080/",
          "height": 683
        },
        "id": "Gl0jJxv49pxs",
        "outputId": "48126249-ecd5-4016-9a38-004fdc8706b0"
      },
      "outputs": [
        {
          "output_type": "stream",
          "name": "stderr",
          "text": [
            "Some weights of ResNetForImageClassification were not initialized from the model checkpoint at microsoft/resnet-50 and are newly initialized because the shapes did not match:\n",
            "- classifier.1.bias: found shape torch.Size([1000]) in the checkpoint and torch.Size([2]) in the model instantiated\n",
            "- classifier.1.weight: found shape torch.Size([1000, 2048]) in the checkpoint and torch.Size([2, 2048]) in the model instantiated\n",
            "You should probably TRAIN this model on a down-stream task to be able to use it for predictions and inference.\n",
            "<ipython-input-25-94b111c4f8dc>:4: FutureWarning: You are using `torch.load` with `weights_only=False` (the current default value), which uses the default pickle module implicitly. It is possible to construct malicious pickle data which will execute arbitrary code during unpickling (See https://github.com/pytorch/pytorch/blob/main/SECURITY.md#untrusted-models for more details). In a future release, the default value for `weights_only` will be flipped to `True`. This limits the functions that could be executed during unpickling. Arbitrary objects will no longer be allowed to be loaded via this mode unless they are explicitly allowlisted by the user via `torch.serialization.add_safe_globals`. We recommend you start setting `weights_only=True` for any use case where you don't have full control of the loaded file. Please open an issue on GitHub for any issues related to this experimental feature.\n",
            "  no_aug_model.load_state_dict(torch.load(\"initial_weights.pth\"))\n"
          ]
        },
        {
          "output_type": "stream",
          "name": "stdout",
          "text": [
            "Epoch 1 Loss: 0.6804\n",
            "Epoch 2 Loss: 0.4740\n",
            "Epoch 3 Loss: 0.2883\n",
            "Epoch 4 Loss: 0.1365\n",
            "Epoch 5 Loss: 0.0525\n"
          ]
        },
        {
          "output_type": "display_data",
          "data": {
            "text/plain": [
              "<Figure size 640x480 with 1 Axes>"
            ],
            "image/png": "[encoded data removed]"
          },
          "metadata": {}
        }
      ],
      "source": [
        "# Train without augmentation\n",
        "\n",
        "no_aug_model = init_model()\n",
        "no_aug_model.load_state_dict(torch.load(\"initial_weights.pth\"))\n",
        "orig_train_dataset = datasets.ImageFolder(train_path, train_transform)\n",
        "orig_train_loader = DataLoader(orig_train_dataset, batch_size=32, shuffle=True)\n",
        "no_aug_metrics = train_evaluate(no_aug_model, orig_train_loader, test_loader, \"No Augmentation\")"
      ]
    },
    {
      "cell_type": "code",
      "execution_count": null,
      "metadata": {
        "colab": {
          "base_uri": "https://localhost:8080/",
          "height": 683
        },
        "id": "CYdtiVYs9pxs",
        "outputId": "db46a6f2-0b97-41ab-e851-3e9c39fd1409"
      },
      "outputs": [
        {
          "output_type": "stream",
          "name": "stderr",
          "text": [
            "Some weights of ResNetForImageClassification were not initialized from the model checkpoint at microsoft/resnet-50 and are newly initialized because the shapes did not match:\n",
            "- classifier.1.bias: found shape torch.Size([1000]) in the checkpoint and torch.Size([2]) in the model instantiated\n",
            "- classifier.1.weight: found shape torch.Size([1000, 2048]) in the checkpoint and torch.Size([2, 2048]) in the model instantiated\n",
            "You should probably TRAIN this model on a down-stream task to be able to use it for predictions and inference.\n",
            "<ipython-input-26-666788cc32e7>:4: FutureWarning: You are using `torch.load` with `weights_only=False` (the current default value), which uses the default pickle module implicitly. It is possible to construct malicious pickle data which will execute arbitrary code during unpickling (See https://github.com/pytorch/pytorch/blob/main/SECURITY.md#untrusted-models for more details). In a future release, the default value for `weights_only` will be flipped to `True`. This limits the functions that could be executed during unpickling. Arbitrary objects will no longer be allowed to be loaded via this mode unless they are explicitly allowlisted by the user via `torch.serialization.add_safe_globals`. We recommend you start setting `weights_only=True` for any use case where you don't have full control of the loaded file. Please open an issue on GitHub for any issues related to this experimental feature.\n",
            "  aug_model.load_state_dict(torch.load(\"initial_weights.pth\"))\n"
          ]
        },
        {
          "output_type": "stream",
          "name": "stdout",
          "text": [
            "Epoch 1 Loss: 0.5898\n",
            "Epoch 2 Loss: 0.2009\n",
            "Epoch 3 Loss: 0.0301\n",
            "Epoch 4 Loss: 0.0048\n",
            "Epoch 5 Loss: 0.0015\n"
          ]
        },
        {
          "output_type": "display_data",
          "data": {
            "text/plain": [
              "<Figure size 640x480 with 1 Axes>"
            ],
            "image/png": "[encoded data removed]"
          },
          "metadata": {}
        }
      ],
      "source": [
        "# Train with augmentation\n",
        "\n",
        "aug_model = init_model()\n",
        "aug_model.load_state_dict(torch.load(\"initial_weights.pth\"))\n",
        "aug_metrics = train_evaluate(aug_model, train_loader, test_loader, \"With Augmentation\")"
      ]
    },
    {
      "cell_type": "code",
      "execution_count": null,
      "metadata": {
        "colab": {
          "base_uri": "https://localhost:8080/"
        },
        "id": "l6XIbMfG9pxs",
        "outputId": "b8163079-7e89-458c-9644-e41032c5bd88"
      },
      "outputs": [
        {
          "output_type": "stream",
          "name": "stdout",
          "text": [
            "\n",
            "Model Comparison:\n",
            "Metric     | No Augmentation | With Augmentation\n",
            "---------------------------------------------\n",
            "Accuracy   | 0.9286          | 0.9643         \n",
            "Precision  | 0.9286          | 0.9667         \n",
            "Recall     | 0.9286          | 0.9643         \n",
            "F1         | 0.9286          | 0.9642         \n"
          ]
        }
      ],
      "source": [
        "# Compare metrics\n",
        "\n",
        "print(\"\\nModel Comparison:\")\n",
        "print(f\"{'Metric':<10} | {'No Augmentation':<15} | {'With Augmentation':<15}\")\n",
        "print(\"-\"*45)\n",
        "for metric in ['accuracy', 'precision', 'recall', 'f1']:\n",
        "    print(f\"{metric.capitalize():<10} | {no_aug_metrics[metric]:<15.4f} | {aug_metrics[metric]:<15.4f}\")"
      ]
    },
    {
      "cell_type": "markdown",
      "source": [
        "**Training Parameters:**\n",
        "\n",
        "Optimizer: Adam (lr=0.001)\n",
        "\n",
        "Loss Function: CrossEntropy Loss\n",
        "\n",
        "Batch Size: 32\n",
        "\n",
        "Epochs: 5\n",
        "\n",
        "Normalization (Mean, Std): [0.485, 0.456, 0.406], [0.229, 0.224, 0.225]\n",
        "\n",
        "Image Size: 224x224 pixels\n",
        "\n",
        "The first training session is with the original dataset but data augmentation is applied in the second training session."
      ],
      "metadata": {
        "id": "BTiupnsw2rmn"
      }
    },
    {
      "cell_type": "markdown",
      "source": [
        "**Model Used**: ResNet-50\n",
        "\n"
      ],
      "metadata": {
        "id": "RNlVrwyN3D3R"
      }
    },
    {
      "cell_type": "markdown",
      "source": [
        "**Architecture Diagram of Model**\n",
        "\n",
        "Input (224x224x3)\n",
        "\n",
        "↓\n",
        "\n",
        "7x7 Conv → BatchNorm → ReLU → MaxPool\n",
        "\n",
        "↓\n",
        "\n",
        "[Residual Block] x3 → (64, 64, 256)\n",
        "\n",
        "↓\n",
        "\n",
        "[Residual Block] x4 → (128, 128, 512)\n",
        "\n",
        "↓\n",
        "\n",
        "[Residual Block] x6 → (256, 256, 1024)\n",
        "\n",
        "↓\n",
        "\n",
        "[Residual Block] x3 → (512, 512, 2048)\n",
        "\n",
        "↓\n",
        "\n",
        "Global Average Pooling\n",
        "\n",
        "↓\n",
        "\n",
        "Fully Connected (2 neurons)\n",
        "\n",
        "↓\n",
        "\n",
        "Softmax → Output: Class Probabilities\n"
      ],
      "metadata": {
        "id": "qz3PBz493Kdz"
      }
    },
    {
      "cell_type": "markdown",
      "source": [
        "**Interpretation of the Results (Evaluation Metrics Without and With Augmentation**\n",
        "\n",
        "These results indicate a good improvement after applying data augmentation. Every metric has increased, so this suggests that the model performs better when trained on augmented data. Data augmentation improved the model performance because it increased the training dataset size by applying transformations, helping the model to learn from a broader set of examples. It also reduced overfitting and enable the model to generalise better."
      ],
      "metadata": {
        "id": "wzN6WHtxd8O2"
      }
    }
  ],
  "metadata": {
    "kernelspec": {
      "display_name": "Python 3",
      "language": "python",
      "name": "python3"
    },
    "language_info": {
      "codemirror_mode": {
        "name": "ipython",
        "version": 3
      },
      "file_extension": ".py",
      "mimetype": "text/x-python",
      "name": "python",
      "nbconvert_exporter": "python",
      "pygments_lexer": "ipython3",
      "version": "3.12.9"
    },
    "colab": {
      "provenance": []
    },
    "widgets": {
      "application/vnd.jupyter.widget-state+json": {
        "b8df55c7ae8144069b890153f2a7da36": {
          "model_module": "@jupyter-widgets/controls",
          "model_name": "HBoxModel",
          "model_module_version": "1.5.0",
          "state": {
            "_dom_classes": [],
            "_model_module": "@jupyter-widgets/controls",
            "_model_module_version": "1.5.0",
            "_model_name": "HBoxModel",
            "_view_count": null,
            "_view_module": "@jupyter-widgets/controls",
            "_view_module_version": "1.5.0",
            "_view_name": "HBoxView",
            "box_style": "",
            "children": [
              "IPY_MODEL_a140ad8cbd4644b1b6443fae5102b2f6",
              "IPY_MODEL_b70c5811efff4b979b486dd13a373b43",
              "IPY_MODEL_6a6b2da2fb074ea4b276e87368aaf921"
            ],
            "layout": "IPY_MODEL_9b28f590d0a5442195be933da6b212c5"
          }
        },
        "a140ad8cbd4644b1b6443fae5102b2f6": {
          "model_module": "@jupyter-widgets/controls",
          "model_name": "HTMLModel",
          "model_module_version": "1.5.0",
          "state": {
            "_dom_classes": [],
            "_model_module": "@jupyter-widgets/controls",
            "_model_module_version": "1.5.0",
            "_model_name": "HTMLModel",
            "_view_count": null,
            "_view_module": "@jupyter-widgets/controls",
            "_view_module_version": "1.5.0",
            "_view_name": "HTMLView",
            "description": "",
            "description_tooltip": null,
            "layout": "IPY_MODEL_8f3b597e67c74d4cbe301f929e137fdd",
            "placeholder": "​",
            "style": "IPY_MODEL_b96e96da1e954e9f955f04dcfbf13789",
            "value": "config.json: 100%"
          }
        },
        "b70c5811efff4b979b486dd13a373b43": {
          "model_module": "@jupyter-widgets/controls",
          "model_name": "FloatProgressModel",
          "model_module_version": "1.5.0",
          "state": {
            "_dom_classes": [],
            "_model_module": "@jupyter-widgets/controls",
            "_model_module_version": "1.5.0",
            "_model_name": "FloatProgressModel",
            "_view_count": null,
            "_view_module": "@jupyter-widgets/controls",
            "_view_module_version": "1.5.0",
            "_view_name": "ProgressView",
            "bar_style": "success",
            "description": "",
            "description_tooltip": null,
            "layout": "IPY_MODEL_d2d733c434a2402dbe8cb07cd5935d06",
            "max": 69556,
            "min": 0,
            "orientation": "horizontal",
            "style": "IPY_MODEL_12af9535e9be4a3c9de20a26df15acc9",
            "value": 69556
          }
        },
        "6a6b2da2fb074ea4b276e87368aaf921": {
          "model_module": "@jupyter-widgets/controls",
          "model_name": "HTMLModel",
          "model_module_version": "1.5.0",
          "state": {
            "_dom_classes": [],
            "_model_module": "@jupyter-widgets/controls",
            "_model_module_version": "1.5.0",
            "_model_name": "HTMLModel",
            "_view_count": null,
            "_view_module": "@jupyter-widgets/controls",
            "_view_module_version": "1.5.0",
            "_view_name": "HTMLView",
            "description": "",
            "description_tooltip": null,
            "layout": "IPY_MODEL_e6d489d42ff344af93d960bb89dfe34d",
            "placeholder": "​",
            "style": "IPY_MODEL_1db18cf9202e4bffb751b7d2d6ab8c46",
            "value": " 69.6k/69.6k [00:00&lt;00:00, 4.28MB/s]"
          }
        },
        "9b28f590d0a5442195be933da6b212c5": {
          "model_module": "@jupyter-widgets/base",
          "model_name": "LayoutModel",
          "model_module_version": "1.2.0",
          "state": {
            "_model_module": "@jupyter-widgets/base",
            "_model_module_version": "1.2.0",
            "_model_name": "LayoutModel",
            "_view_count": null,
            "_view_module": "@jupyter-widgets/base",
            "_view_module_version": "1.2.0",
            "_view_name": "LayoutView",
            "align_content": null,
            "align_items": null,
            "align_self": null,
            "border": null,
            "bottom": null,
            "display": null,
            "flex": null,
            "flex_flow": null,
            "grid_area": null,
            "grid_auto_columns": null,
            "grid_auto_flow": null,
            "grid_auto_rows": null,
            "grid_column": null,
            "grid_gap": null,
            "grid_row": null,
            "grid_template_areas": null,
            "grid_template_columns": null,
            "grid_template_rows": null,
            "height": null,
            "justify_content": null,
            "justify_items": null,
            "left": null,
            "margin": null,
            "max_height": null,
            "max_width": null,
            "min_height": null,
            "min_width": null,
            "object_fit": null,
            "object_position": null,
            "order": null,
            "overflow": null,
            "overflow_x": null,
            "overflow_y": null,
            "padding": null,
            "right": null,
            "top": null,
            "visibility": null,
            "width": null
          }
        },
        "8f3b597e67c74d4cbe301f929e137fdd": {
          "model_module": "@jupyter-widgets/base",
          "model_name": "LayoutModel",
          "model_module_version": "1.2.0",
          "state": {
            "_model_module": "@jupyter-widgets/base",
            "_model_module_version": "1.2.0",
            "_model_name": "LayoutModel",
            "_view_count": null,
            "_view_module": "@jupyter-widgets/base",
            "_view_module_version": "1.2.0",
            "_view_name": "LayoutView",
            "align_content": null,
            "align_items": null,
            "align_self": null,
            "border": null,
            "bottom": null,
            "display": null,
            "flex": null,
            "flex_flow": null,
            "grid_area": null,
            "grid_auto_columns": null,
            "grid_auto_flow": null,
            "grid_auto_rows": null,
            "grid_column": null,
            "grid_gap": null,
            "grid_row": null,
            "grid_template_areas": null,
            "grid_template_columns": null,
            "grid_template_rows": null,
            "height": null,
            "justify_content": null,
            "justify_items": null,
            "left": null,
            "margin": null,
            "max_height": null,
            "max_width": null,
            "min_height": null,
            "min_width": null,
            "object_fit": null,
            "object_position": null,
            "order": null,
            "overflow": null,
            "overflow_x": null,
            "overflow_y": null,
            "padding": null,
            "right": null,
            "top": null,
            "visibility": null,
            "width": null
          }
        },
        "b96e96da1e954e9f955f04dcfbf13789": {
          "model_module": "@jupyter-widgets/controls",
          "model_name": "DescriptionStyleModel",
          "model_module_version": "1.5.0",
          "state": {
            "_model_module": "@jupyter-widgets/controls",
            "_model_module_version": "1.5.0",
            "_model_name": "DescriptionStyleModel",
            "_view_count": null,
            "_view_module": "@jupyter-widgets/base",
            "_view_module_version": "1.2.0",
            "_view_name": "StyleView",
            "description_width": ""
          }
        },
        "d2d733c434a2402dbe8cb07cd5935d06": {
          "model_module": "@jupyter-widgets/base",
          "model_name": "LayoutModel",
          "model_module_version": "1.2.0",
          "state": {
            "_model_module": "@jupyter-widgets/base",
            "_model_module_version": "1.2.0",
            "_model_name": "LayoutModel",
            "_view_count": null,
            "_view_module": "@jupyter-widgets/base",
            "_view_module_version": "1.2.0",
            "_view_name": "LayoutView",
            "align_content": null,
            "align_items": null,
            "align_self": null,
            "border": null,
            "bottom": null,
            "display": null,
            "flex": null,
            "flex_flow": null,
            "grid_area": null,
            "grid_auto_columns": null,
            "grid_auto_flow": null,
            "grid_auto_rows": null,
            "grid_column": null,
            "grid_gap": null,
            "grid_row": null,
            "grid_template_areas": null,
            "grid_template_columns": null,
            "grid_template_rows": null,
            "height": null,
            "justify_content": null,
            "justify_items": null,
            "left": null,
            "margin": null,
            "max_height": null,
            "max_width": null,
            "min_height": null,
            "min_width": null,
            "object_fit": null,
            "object_position": null,
            "order": null,
            "overflow": null,
            "overflow_x": null,
            "overflow_y": null,
            "padding": null,
            "right": null,
            "top": null,
            "visibility": null,
            "width": null
          }
        },
        "12af9535e9be4a3c9de20a26df15acc9": {
          "model_module": "@jupyter-widgets/controls",
          "model_name": "ProgressStyleModel",
          "model_module_version": "1.5.0",
          "state": {
            "_model_module": "@jupyter-widgets/controls",
            "_model_module_version": "1.5.0",
            "_model_name": "ProgressStyleModel",
            "_view_count": null,
            "_view_module": "@jupyter-widgets/base",
            "_view_module_version": "1.2.0",
            "_view_name": "StyleView",
            "bar_color": null,
            "description_width": ""
          }
        },
        "e6d489d42ff344af93d960bb89dfe34d": {
          "model_module": "@jupyter-widgets/base",
          "model_name": "LayoutModel",
          "model_module_version": "1.2.0",
          "state": {
            "_model_module": "@jupyter-widgets/base",
            "_model_module_version": "1.2.0",
            "_model_name": "LayoutModel",
            "_view_count": null,
            "_view_module": "@jupyter-widgets/base",
            "_view_module_version": "1.2.0",
            "_view_name": "LayoutView",
            "align_content": null,
            "align_items": null,
            "align_self": null,
            "border": null,
            "bottom": null,
            "display": null,
            "flex": null,
            "flex_flow": null,
            "grid_area": null,
            "grid_auto_columns": null,
            "grid_auto_flow": null,
            "grid_auto_rows": null,
            "grid_column": null,
            "grid_gap": null,
            "grid_row": null,
            "grid_template_areas": null,
            "grid_template_columns": null,
            "grid_template_rows": null,
            "height": null,
            "justify_content": null,
            "justify_items": null,
            "left": null,
            "margin": null,
            "max_height": null,
            "max_width": null,
            "min_height": null,
            "min_width": null,
            "object_fit": null,
            "object_position": null,
            "order": null,
            "overflow": null,
            "overflow_x": null,
            "overflow_y": null,
            "padding": null,
            "right": null,
            "top": null,
            "visibility": null,
            "width": null
          }
        },
        "1db18cf9202e4bffb751b7d2d6ab8c46": {
          "model_module": "@jupyter-widgets/controls",
          "model_name": "DescriptionStyleModel",
          "model_module_version": "1.5.0",
          "state": {
            "_model_module": "@jupyter-widgets/controls",
            "_model_module_version": "1.5.0",
            "_model_name": "DescriptionStyleModel",
            "_view_count": null,
            "_view_module": "@jupyter-widgets/base",
            "_view_module_version": "1.2.0",
            "_view_name": "StyleView",
            "description_width": ""
          }
        },
        "d5a26846ef344696b01d82b914b77450": {
          "model_module": "@jupyter-widgets/controls",
          "model_name": "HBoxModel",
          "model_module_version": "1.5.0",
          "state": {
            "_dom_classes": [],
            "_model_module": "@jupyter-widgets/controls",
            "_model_module_version": "1.5.0",
            "_model_name": "HBoxModel",
            "_view_count": null,
            "_view_module": "@jupyter-widgets/controls",
            "_view_module_version": "1.5.0",
            "_view_name": "HBoxView",
            "box_style": "",
            "children": [
              "IPY_MODEL_a7fa275f46f44dec9d6f39bf83159575",
              "IPY_MODEL_de62111fa6294a278406abfce82bb197",
              "IPY_MODEL_e9ae3bff947b4384b283d88e775014a9"
            ],
            "layout": "IPY_MODEL_d67dd9631a0e4ff4aaca9e142756fd1e"
          }
        },
        "a7fa275f46f44dec9d6f39bf83159575": {
          "model_module": "@jupyter-widgets/controls",
          "model_name": "HTMLModel",
          "model_module_version": "1.5.0",
          "state": {
            "_dom_classes": [],
            "_model_module": "@jupyter-widgets/controls",
            "_model_module_version": "1.5.0",
            "_model_name": "HTMLModel",
            "_view_count": null,
            "_view_module": "@jupyter-widgets/controls",
            "_view_module_version": "1.5.0",
            "_view_name": "HTMLView",
            "description": "",
            "description_tooltip": null,
            "layout": "IPY_MODEL_e0316efe0cd7486eaacb19963268a66a",
            "placeholder": "​",
            "style": "IPY_MODEL_bfd8f7926313402d926f4714e26bd7a8",
            "value": "model.safetensors: 100%"
          }
        },
        "de62111fa6294a278406abfce82bb197": {
          "model_module": "@jupyter-widgets/controls",
          "model_name": "FloatProgressModel",
          "model_module_version": "1.5.0",
          "state": {
            "_dom_classes": [],
            "_model_module": "@jupyter-widgets/controls",
            "_model_module_version": "1.5.0",
            "_model_name": "FloatProgressModel",
            "_view_count": null,
            "_view_module": "@jupyter-widgets/controls",
            "_view_module_version": "1.5.0",
            "_view_name": "ProgressView",
            "bar_style": "success",
            "description": "",
            "description_tooltip": null,
            "layout": "IPY_MODEL_9fcb396b18834f5b8c65aaf38ed96eaf",
            "max": 102482854,
            "min": 0,
            "orientation": "horizontal",
            "style": "IPY_MODEL_25fabdd66fd2412db1cfd646023f61f2",
            "value": 102482854
          }
        },
        "e9ae3bff947b4384b283d88e775014a9": {
          "model_module": "@jupyter-widgets/controls",
          "model_name": "HTMLModel",
          "model_module_version": "1.5.0",
          "state": {
            "_dom_classes": [],
            "_model_module": "@jupyter-widgets/controls",
            "_model_module_version": "1.5.0",
            "_model_name": "HTMLModel",
            "_view_count": null,
            "_view_module": "@jupyter-widgets/controls",
            "_view_module_version": "1.5.0",
            "_view_name": "HTMLView",
            "description": "",
            "description_tooltip": null,
            "layout": "IPY_MODEL_67d7dcf96cfb4bcab94336cbd33b8733",
            "placeholder": "​",
            "style": "IPY_MODEL_8b679faa040d4b29a9f3d8d7e50d6d58",
            "value": " 102M/102M [00:00&lt;00:00, 232MB/s]"
          }
        },
        "d67dd9631a0e4ff4aaca9e142756fd1e": {
          "model_module": "@jupyter-widgets/base",
          "model_name": "LayoutModel",
          "model_module_version": "1.2.0",
          "state": {
            "_model_module": "@jupyter-widgets/base",
            "_model_module_version": "1.2.0",
            "_model_name": "LayoutModel",
            "_view_count": null,
            "_view_module": "@jupyter-widgets/base",
            "_view_module_version": "1.2.0",
            "_view_name": "LayoutView",
            "align_content": null,
            "align_items": null,
            "align_self": null,
            "border": null,
            "bottom": null,
            "display": null,
            "flex": null,
            "flex_flow": null,
            "grid_area": null,
            "grid_auto_columns": null,
            "grid_auto_flow": null,
            "grid_auto_rows": null,
            "grid_column": null,
            "grid_gap": null,
            "grid_row": null,
            "grid_template_areas": null,
            "grid_template_columns": null,
            "grid_template_rows": null,
            "height": null,
            "justify_content": null,
            "justify_items": null,
            "left": null,
            "margin": null,
            "max_height": null,
            "max_width": null,
            "min_height": null,
            "min_width": null,
            "object_fit": null,
            "object_position": null,
            "order": null,
            "overflow": null,
            "overflow_x": null,
            "overflow_y": null,
            "padding": null,
            "right": null,
            "top": null,
            "visibility": null,
            "width": null
          }
        },
        "e0316efe0cd7486eaacb19963268a66a": {
          "model_module": "@jupyter-widgets/base",
          "model_name": "LayoutModel",
          "model_module_version": "1.2.0",
          "state": {
            "_model_module": "@jupyter-widgets/base",
            "_model_module_version": "1.2.0",
            "_model_name": "LayoutModel",
            "_view_count": null,
            "_view_module": "@jupyter-widgets/base",
            "_view_module_version": "1.2.0",
            "_view_name": "LayoutView",
            "align_content": null,
            "align_items": null,
            "align_self": null,
            "border": null,
            "bottom": null,
            "display": null,
            "flex": null,
            "flex_flow": null,
            "grid_area": null,
            "grid_auto_columns": null,
            "grid_auto_flow": null,
            "grid_auto_rows": null,
            "grid_column": null,
            "grid_gap": null,
            "grid_row": null,
            "grid_template_areas": null,
            "grid_template_columns": null,
            "grid_template_rows": null,
            "height": null,
            "justify_content": null,
            "justify_items": null,
            "left": null,
            "margin": null,
            "max_height": null,
            "max_width": null,
            "min_height": null,
            "min_width": null,
            "object_fit": null,
            "object_position": null,
            "order": null,
            "overflow": null,
            "overflow_x": null,
            "overflow_y": null,
            "padding": null,
            "right": null,
            "top": null,
            "visibility": null,
            "width": null
          }
        },
        "bfd8f7926313402d926f4714e26bd7a8": {
          "model_module": "@jupyter-widgets/controls",
          "model_name": "DescriptionStyleModel",
          "model_module_version": "1.5.0",
          "state": {
            "_model_module": "@jupyter-widgets/controls",
            "_model_module_version": "1.5.0",
            "_model_name": "DescriptionStyleModel",
            "_view_count": null,
            "_view_module": "@jupyter-widgets/base",
            "_view_module_version": "1.2.0",
            "_view_name": "StyleView",
            "description_width": ""
          }
        },
        "9fcb396b18834f5b8c65aaf38ed96eaf": {
          "model_module": "@jupyter-widgets/base",
          "model_name": "LayoutModel",
          "model_module_version": "1.2.0",
          "state": {
            "_model_module": "@jupyter-widgets/base",
            "_model_module_version": "1.2.0",
            "_model_name": "LayoutModel",
            "_view_count": null,
            "_view_module": "@jupyter-widgets/base",
            "_view_module_version": "1.2.0",
            "_view_name": "LayoutView",
            "align_content": null,
            "align_items": null,
            "align_self": null,
            "border": null,
            "bottom": null,
            "display": null,
            "flex": null,
            "flex_flow": null,
            "grid_area": null,
            "grid_auto_columns": null,
            "grid_auto_flow": null,
            "grid_auto_rows": null,
            "grid_column": null,
            "grid_gap": null,
            "grid_row": null,
            "grid_template_areas": null,
            "grid_template_columns": null,
            "grid_template_rows": null,
            "height": null,
            "justify_content": null,
            "justify_items": null,
            "left": null,
            "margin": null,
            "max_height": null,
            "max_width": null,
            "min_height": null,
            "min_width": null,
            "object_fit": null,
            "object_position": null,
            "order": null,
            "overflow": null,
            "overflow_x": null,
            "overflow_y": null,
            "padding": null,
            "right": null,
            "top": null,
            "visibility": null,
            "width": null
          }
        },
        "25fabdd66fd2412db1cfd646023f61f2": {
          "model_module": "@jupyter-widgets/controls",
          "model_name": "ProgressStyleModel",
          "model_module_version": "1.5.0",
          "state": {
            "_model_module": "@jupyter-widgets/controls",
            "_model_module_version": "1.5.0",
            "_model_name": "ProgressStyleModel",
            "_view_count": null,
            "_view_module": "@jupyter-widgets/base",
            "_view_module_version": "1.2.0",
            "_view_name": "StyleView",
            "bar_color": null,
            "description_width": ""
          }
        },
        "67d7dcf96cfb4bcab94336cbd33b8733": {
          "model_module": "@jupyter-widgets/base",
          "model_name": "LayoutModel",
          "model_module_version": "1.2.0",
          "state": {
            "_model_module": "@jupyter-widgets/base",
            "_model_module_version": "1.2.0",
            "_model_name": "LayoutModel",
            "_view_count": null,
            "_view_module": "@jupyter-widgets/base",
            "_view_module_version": "1.2.0",
            "_view_name": "LayoutView",
            "align_content": null,
            "align_items": null,
            "align_self": null,
            "border": null,
            "bottom": null,
            "display": null,
            "flex": null,
            "flex_flow": null,
            "grid_area": null,
            "grid_auto_columns": null,
            "grid_auto_flow": null,
            "grid_auto_rows": null,
            "grid_column": null,
            "grid_gap": null,
            "grid_row": null,
            "grid_template_areas": null,
            "grid_template_columns": null,
            "grid_template_rows": null,
            "height": null,
            "justify_content": null,
            "justify_items": null,
            "left": null,
            "margin": null,
            "max_height": null,
            "max_width": null,
            "min_height": null,
            "min_width": null,
            "object_fit": null,
            "object_position": null,
            "order": null,
            "overflow": null,
            "overflow_x": null,
            "overflow_y": null,
            "padding": null,
            "right": null,
            "top": null,
            "visibility": null,
            "width": null
          }
        },
        "8b679faa040d4b29a9f3d8d7e50d6d58": {
          "model_module": "@jupyter-widgets/controls",
          "model_name": "DescriptionStyleModel",
          "model_module_version": "1.5.0",
          "state": {
            "_model_module": "@jupyter-widgets/controls",
            "_model_module_version": "1.5.0",
            "_model_name": "DescriptionStyleModel",
            "_view_count": null,
            "_view_module": "@jupyter-widgets/base",
            "_view_module_version": "1.2.0",
            "_view_name": "StyleView",
            "description_width": ""
          }
        }
      }
    }
  },
  "nbformat": 4,
  "nbformat_minor": 0
}